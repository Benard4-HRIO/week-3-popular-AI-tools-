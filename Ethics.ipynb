{
 "cells": [
  {
   "cell_type": "markdown",
   "id": "10242c5d",
   "metadata": {},
   "source": [
    "## 🧭 Ethical Considerations\n",
    "\n",
    "Although the MNIST dataset appears neutral, it still carries potential biases. The images were primarily collected from U.S. students and Census Bureau employees, meaning the model may not generalize well to handwriting styles from different cultures, ages, or tools (e.g., thick pens, cursive writing). This creates a form of representation and data collection bias. Similarly, evaluation bias occurs when a model performs well only on test data that closely matches the training set.\n",
    "\n",
    "If applied to a text-based dataset such as Amazon Reviews, additional biases may arise from language use, demographics, or subjective labeling—where annotators’ opinions influence sentiment classification.\n",
    "\n",
    "To detect and mitigate these biases, TensorFlow Fairness Indicators can analyze subgroup performance (e.g., accuracy across handwriting types or demographics) to ensure balanced results. In natural language tasks, spaCy’s rule-based systems can clean and normalize biased or non-standard language before model training. Using such fairness tools helps promote ethical and equitable AI systems that perform fairly across diverse user groups.\n"
   ]
  }
 ],
 "metadata": {
  "language_info": {
   "name": "python"
  }
 },
 "nbformat": 4,
 "nbformat_minor": 5
}
